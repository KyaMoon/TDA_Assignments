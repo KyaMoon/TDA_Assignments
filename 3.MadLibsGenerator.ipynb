{
 "cells": [
  {
   "cell_type": "code",
   "execution_count": 5,
   "metadata": {},
   "outputs": [
    {
     "name": "stdout",
     "output_type": "stream",
     "text": [
      "Once there was a girl named Sophia. They decided to go play in the the woods where they came across a wicked witch! Sophia decided to laughed and hide behind the tree stump. Thankfully, this worked and the wicked witch left them alone!\n"
     ]
    }
   ],
   "source": [
    "firstName = input(\"Please enter a first name:\")\n",
    "gender = input(\"Please enter a gender:\")\n",
    "place = input(\"Please enter a place:\")\n",
    "verb_1 = input(\"Please enter a verb:\")\n",
    "object_1 = input(\"Please enter an object:\")\n",
    "\n",
    "story = (\"Once there was a \" + gender + \" named \" + firstName + \". They decided to go play in the \" + place + \" where they came across a wicked witch! \" + firstName + \" decided to \" + verb_1 + \" and hide behind the \" + object_1 + \". Thankfully, this worked and the wicked witch left them alone!\")\n",
    "\n",
    "print(story)"
   ]
  }
 ],
 "metadata": {
  "kernelspec": {
   "display_name": "Python 3",
   "language": "python",
   "name": "python3"
  },
  "language_info": {
   "codemirror_mode": {
    "name": "ipython",
    "version": 3
   },
   "file_extension": ".py",
   "mimetype": "text/x-python",
   "name": "python",
   "nbconvert_exporter": "python",
   "pygments_lexer": "ipython3",
   "version": "3.11.1"
  },
  "orig_nbformat": 4,
  "vscode": {
   "interpreter": {
    "hash": "d73c7f64bcd9bf0fe34abdfaba2dc438bbc09d073472b0c799bcac48e75a85c3"
   }
  }
 },
 "nbformat": 4,
 "nbformat_minor": 2
}
